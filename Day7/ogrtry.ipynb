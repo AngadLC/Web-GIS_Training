{
 "cells": [
  {
   "cell_type": "code",
   "execution_count": 1,
   "metadata": {},
   "outputs": [],
   "source": [
    "from osgeo import ogr\n",
    "import sys, os"
   ]
  },
  {
   "cell_type": "code",
   "execution_count": 3,
   "metadata": {},
   "outputs": [
    {
     "name": "stdout",
     "output_type": "stream",
     "text": [
      "ESRIC\n",
      "FITS\n",
      "PCIDSK\n",
      "netCDF\n",
      "PDS4\n",
      "VICAR\n",
      "JP2OpenJPEG\n",
      "PDF\n",
      "MBTiles\n",
      "BAG\n",
      "EEDA\n"
     ]
    }
   ],
   "source": [
    "#get driver\n",
    "cnt = ogr.GetDriverCount()\n",
    "for i in range(cnt):\n",
    "    driver = ogr.GetDriver(i)\n",
    "    print (driver.GetName())\n",
    "    if i == 10:\n",
    "        break "
   ]
  },
  {
   "cell_type": "code",
   "execution_count": 4,
   "metadata": {},
   "outputs": [
    {
     "name": "stdout",
     "output_type": "stream",
     "text": [
      "Name: Club Nasha, Amentity Type: bar, Lat: 28.2107156, Lng: 83.9565679\n",
      "Name: Paralounge, Amentity Type: bar, Lat: 28.2102933, Lng: 83.9569089\n",
      "Name: New Sky Palace Dance Bar & Restaurant, Amentity Type: bar, Lat: 28.2127516, Lng: 83.9572634\n",
      "Name: VE'YE Restro Bar Lounge, Amentity Type: bar, Lat: 28.2234303, Lng: 83.9875321\n",
      "Name: Planet Purple, Amentity Type: bar, Lat: 28.2103676, Lng: 83.9558355\n",
      "Name: None, Amentity Type: bar, Lat: 28.2113859, Lng: 83.9664603\n",
      "Name: None, Amentity Type: bar, Lat: 28.2095861, Lng: 83.9569165\n",
      "Name: None, Amentity Type: bar, Lat: 28.217041, Lng: 83.9573992\n",
      "Name: None, Amentity Type: bar, Lat: 28.2085233, Lng: 83.9578373\n",
      "Name: Sugar Cane Bar, Amentity Type: bar, Lat: 28.2114524, Lng: 83.9570616\n"
     ]
    }
   ],
   "source": [
    "# Read file and visualize geometry and attributes\n",
    "fn = r'Economic_hub.shp'\n",
    "ds = ogr.Open(fn, 0)\n",
    "if ds is None:\n",
    "    sys.exit(f'Could not open {fn}')\n",
    "lyr = ds.GetLayer(0)\n",
    "\n",
    "i = 0\n",
    "for feat in lyr:\n",
    "    pt = feat.geometry()\n",
    "    x = pt.GetX()\n",
    "    y = pt.GetY()\n",
    "    name = feat.GetField(\"name\")\n",
    "    amenity = feat.GetField(\"amenity\")\n",
    "    print(f\"Name: {name}, Amentity Type: {amenity}, Lat: {y}, Lng: {x}\")\n",
    "    i += 1\n",
    "    if i == 10:\n",
    "        break\n",
    "del ds"
   ]
  },
  {
   "cell_type": "code",
   "execution_count": 5,
   "metadata": {},
   "outputs": [
    {
     "name": "stdout",
     "output_type": "stream",
     "text": [
      "Layer: Economic_hub\n",
      "Feature Count: 819\n",
      "Extend: (83.9400659, 84.0309624, 28.1731438, 28.263442753497404)\n",
      "Geometry Type: Point\n"
     ]
    }
   ],
   "source": [
    "# Get layer name, feature count, extend, geometry type\n",
    "ds = ogr.Open(fn, 0)\n",
    "for lyr in ds:\n",
    "    print(f\"Layer: {lyr.GetName()}\")\n",
    "    print(f\"Feature Count: {lyr.GetFeatureCount()}\")\n",
    "    (xmin, xmax, ymin, ymax)= lyr.GetExtent()\n",
    "    print(f\"Extend: {xmin, xmax, ymin, ymax}\")\n",
    "    print(f\"Geometry Type: {ogr.GeometryTypeToName(lyr.GetGeomType())}\")"
   ]
  },
  {
   "cell_type": "code",
   "execution_count": 6,
   "metadata": {},
   "outputs": [
    {
     "name": "stdout",
     "output_type": "stream",
     "text": [
      "SRS: GEOGCS[\"WGS 84\",DATUM[\"WGS_1984\",SPHEROID[\"WGS 84\",6378137,298.257223563,AUTHORITY[\"EPSG\",\"7030\"]],AUTHORITY[\"EPSG\",\"6326\"]],PRIMEM[\"Greenwich\",0,AUTHORITY[\"EPSG\",\"8901\"]],UNIT[\"degree\",0.0174532925199433,AUTHORITY[\"EPSG\",\"9122\"]],AXIS[\"Latitude\",NORTH],AXIS[\"Longitude\",EAST],AUTHORITY[\"EPSG\",\"4326\"]]\n"
     ]
    }
   ],
   "source": [
    "# Get spatial reference\n",
    "srs = lyr.GetSpatialRef()\n",
    "if srs is not None:\n",
    "    print(f\"SRS: {srs.ExportToWkt()}\")"
   ]
  }
 ],
 "metadata": {
  "interpreter": {
   "hash": "5eb9c0ef1bd258b4bf6b3346790c228743026838080ead2a794254230f0f1d1e"
  },
  "kernelspec": {
   "display_name": "Python 3.8.12 ('name_env')",
   "language": "python",
   "name": "python3"
  },
  "language_info": {
   "codemirror_mode": {
    "name": "ipython",
    "version": 3
   },
   "file_extension": ".py",
   "mimetype": "text/x-python",
   "name": "python",
   "nbconvert_exporter": "python",
   "pygments_lexer": "ipython3",
   "version": "3.8.12"
  },
  "orig_nbformat": 4
 },
 "nbformat": 4,
 "nbformat_minor": 2
}
