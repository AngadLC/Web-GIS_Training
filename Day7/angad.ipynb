{
 "cells": [
  {
   "cell_type": "code",
   "execution_count": 1,
   "metadata": {},
   "outputs": [],
   "source": [
    "from osgeo import ogr\n",
    "import sys, os"
   ]
  },
  {
   "cell_type": "code",
   "execution_count": 2,
   "metadata": {},
   "outputs": [
    {
     "name": "stdout",
     "output_type": "stream",
     "text": [
      "83\n"
     ]
    }
   ],
   "source": [
    "# supported by vector data type\n",
    "cnt = ogr.GetDriverCount()\n",
    "print(cnt)"
   ]
  },
  {
   "cell_type": "code",
   "execution_count": 3,
   "metadata": {},
   "outputs": [
    {
     "name": "stdout",
     "output_type": "stream",
     "text": [
      "ESRIC\n",
      "FITS\n",
      "PCIDSK\n",
      "netCDF\n",
      "PDS4\n",
      "VICAR\n",
      "JP2OpenJPEG\n",
      "PDF\n",
      "MBTiles\n",
      "BAG\n",
      "EEDA\n"
     ]
    }
   ],
   "source": [
    "for i in range(cnt):\n",
    "    driver = ogr.GetDriver(i)\n",
    "    print(driver.GetName())\n",
    "    if i == 10:\n",
    "        break"
   ]
  },
  {
   "cell_type": "code",
   "execution_count": 10,
   "metadata": {},
   "outputs": [
    {
     "name": "stdout",
     "output_type": "stream",
     "text": [
      "Name:Club Nasha Amenity:bar lat:28.2107156 long:83.9565679\n",
      "Name:Paralounge Amenity:bar lat:28.2102933 long:83.9569089\n",
      "Name:New Sky Palace Dance Bar & Restaurant Amenity:bar lat:28.2127516 long:83.9572634\n",
      "Name:VE'YE Restro Bar Lounge Amenity:bar lat:28.2234303 long:83.9875321\n",
      "Name:Planet Purple Amenity:bar lat:28.2103676 long:83.9558355\n",
      "Name:None Amenity:bar lat:28.2113859 long:83.9664603\n",
      "Name:None Amenity:bar lat:28.2095861 long:83.9569165\n",
      "Name:None Amenity:bar lat:28.217041 long:83.9573992\n",
      "Name:None Amenity:bar lat:28.2085233 long:83.9578373\n",
      "Name:Sugar Cane Bar Amenity:bar lat:28.2114524 long:83.9570616\n"
     ]
    }
   ],
   "source": [
    "# read vector data\n",
    "fn = r'D:\\Geoclass\\gesan\\web gis training\\Web Gis training\\Day5\\Aditya\\Economic_hub.shp'\n",
    "ds = ogr.Open(fn,0)\n",
    "# if ds is None:\n",
    "#     sys.exit(\"Could not open file\")\n",
    "lyr = ds.GetLayer(0)\n",
    "i = 0\n",
    "for feature in lyr:\n",
    "    pt = feature.geometry()\n",
    "    x = pt.GetX()\n",
    "    y = pt.GetY()\n",
    "    name = feature.GetField(\"name\")\n",
    "    amenity = feature.GetField(\"amenity\")\n",
    "    print(f\"Name:{name} Amenity:{amenity} lat:{y} long:{x}\")\n",
    "    i += 1\n",
    "    if i == 10:\n",
    "        break\n",
    "del ds\n"
   ]
  },
  {
   "cell_type": "code",
   "execution_count": 14,
   "metadata": {},
   "outputs": [
    {
     "name": "stdout",
     "output_type": "stream",
     "text": [
      "layer:Economic_hub\n",
      "FeatureCount:819\n",
      "extent:(83.9400659, 84.0309624, 28.1731438, 28.263442753497404)\n"
     ]
    }
   ],
   "source": [
    "ds = ogr.Open(fn,0)\n",
    "for lyr in ds:\n",
    "    print(f\"layer:{lyr.GetName()}\")\n",
    "    print(f\"FeatureCount:{lyr.GetFeatureCount()}\")\n",
    "    print(f\"extent:{lyr.GetExtent()}\")"
   ]
  },
  {
   "cell_type": "code",
   "execution_count": 16,
   "metadata": {},
   "outputs": [
    {
     "name": "stdout",
     "output_type": "stream",
     "text": [
      "srs:GEOGCS[\"WGS 84\",\n",
      "    DATUM[\"WGS_1984\",\n",
      "        SPHEROID[\"WGS 84\",6378137,298.257223563,\n",
      "            AUTHORITY[\"EPSG\",\"7030\"]],\n",
      "        AUTHORITY[\"EPSG\",\"6326\"]],\n",
      "    PRIMEM[\"Greenwich\",0,\n",
      "        AUTHORITY[\"EPSG\",\"8901\"]],\n",
      "    UNIT[\"degree\",0.0174532925199433,\n",
      "        AUTHORITY[\"EPSG\",\"9122\"]],\n",
      "    AXIS[\"Latitude\",NORTH],\n",
      "    AXIS[\"Longitude\",EAST],\n",
      "    AUTHORITY[\"EPSG\",\"4326\"]]\n"
     ]
    }
   ],
   "source": [
    "srs = lyr.GetSpatialRef()\n",
    "if srs is not None:\n",
    "    print(f\"srs:{srs}\")"
   ]
  }
 ],
 "metadata": {
  "interpreter": {
   "hash": "5eb9c0ef1bd258b4bf6b3346790c228743026838080ead2a794254230f0f1d1e"
  },
  "kernelspec": {
   "display_name": "Python 3.8.12 ('name_env')",
   "language": "python",
   "name": "python3"
  },
  "language_info": {
   "codemirror_mode": {
    "name": "ipython",
    "version": 3
   },
   "file_extension": ".py",
   "mimetype": "text/x-python",
   "name": "python",
   "nbconvert_exporter": "python",
   "pygments_lexer": "ipython3",
   "version": "3.8.12"
  },
  "orig_nbformat": 4
 },
 "nbformat": 4,
 "nbformat_minor": 2
}
