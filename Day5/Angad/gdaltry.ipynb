{
 "cells": [
  {
   "cell_type": "code",
   "execution_count": 2,
   "metadata": {},
   "outputs": [
    {
     "name": "stdout",
     "output_type": "stream",
     "text": [
      "<osgeo.gdal.Dataset; proxy of <Swig Object of type 'GDALDatasetShadow *' at 0x00000200BD2BD3F0> >\n"
     ]
    }
   ],
   "source": [
    "from osgeo import gdal\n",
    "import os\n",
    "# print(os.getcwd())\n",
    "# cwd = os.getcwd()\n",
    "# redband = cwd.join('B4.tif')\n",
    "in_ds = gdal.Open('Classification_clipraw1.tif')\n",
    "in_band = in_ds.GetRasterBand(1)\n",
    "print(in_ds)"
   ]
  },
  {
   "cell_type": "code",
   "execution_count": 3,
   "metadata": {},
   "outputs": [
    {
     "name": "stdout",
     "output_type": "stream",
     "text": [
      "[[18 73 73 ... 48 48 48]\n",
      " [73 48 48 ... 48 48 48]\n",
      " [48 48 73 ... 73 48 48]\n",
      " ...\n",
      " [18 73 18 ... 32 32 32]\n",
      " [73 73 18 ... 32 32 32]\n",
      " [73 18 18 ... 32 32 32]]\n"
     ]
    }
   ],
   "source": [
    "#numpy array\n",
    "data = in_band.ReadAsArray()\n",
    "print(data)"
   ]
  },
  {
   "cell_type": "code",
   "execution_count": 4,
   "metadata": {},
   "outputs": [
    {
     "name": "stdout",
     "output_type": "stream",
     "text": [
      "GEOGCS[\"WGS 84\",DATUM[\"WGS_1984\",SPHEROID[\"WGS 84\",6378137,298.257223563,AUTHORITY[\"EPSG\",\"7030\"]],AUTHORITY[\"EPSG\",\"6326\"]],PRIMEM[\"Greenwich\",0],UNIT[\"degree\",0.0174532925199433,AUTHORITY[\"EPSG\",\"9122\"]],AXIS[\"Latitude\",NORTH],AXIS[\"Longitude\",EAST],AUTHORITY[\"EPSG\",\"4326\"]]\n"
     ]
    }
   ],
   "source": [
    "#get projection\n",
    "projection = in_ds.GetProjection()\n",
    "print(projection)"
   ]
  },
  {
   "cell_type": "code",
   "execution_count": 6,
   "metadata": {},
   "outputs": [
    {
     "data": {
      "text/plain": [
       "(83.58509308382706,\n",
       " 0.00026949458523584514,\n",
       " 0.0,\n",
       " 28.265400583292337,\n",
       " 0.0,\n",
       " -0.00026949458523584655)"
      ]
     },
     "execution_count": 6,
     "metadata": {},
     "output_type": "execute_result"
    }
   ],
   "source": [
    "#get geotransform\n",
    "geotransform = in_ds.GetGeoTransform()\n",
    "geotransform"
   ]
  }
 ],
 "metadata": {
  "interpreter": {
   "hash": "5eb9c0ef1bd258b4bf6b3346790c228743026838080ead2a794254230f0f1d1e"
  },
  "kernelspec": {
   "display_name": "Python 3.8.12 64-bit ('name_env': conda)",
   "language": "python",
   "name": "python3"
  },
  "language_info": {
   "codemirror_mode": {
    "name": "ipython",
    "version": 3
   },
   "file_extension": ".py",
   "mimetype": "text/x-python",
   "name": "python",
   "nbconvert_exporter": "python",
   "pygments_lexer": "ipython3",
   "version": "3.8.12"
  },
  "orig_nbformat": 4
 },
 "nbformat": 4,
 "nbformat_minor": 2
}
