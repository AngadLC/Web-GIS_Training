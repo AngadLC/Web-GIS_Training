{
 "cells": [
  {
   "cell_type": "markdown",
   "metadata": {},
   "source": [
    "# Reading Data"
   ]
  },
  {
   "cell_type": "code",
   "execution_count": 1,
   "metadata": {},
   "outputs": [],
   "source": [
    "# import libraries\n",
    "from osgeo import ogr\n",
    "import sys, os"
   ]
  },
  {
   "cell_type": "code",
   "execution_count": 2,
   "metadata": {},
   "outputs": [
    {
     "name": "stdout",
     "output_type": "stream",
     "text": [
      "ESRIC\n",
      "FITS\n",
      "PCIDSK\n",
      "netCDF\n",
      "PDS4\n",
      "VICAR\n",
      "JP2OpenJPEG\n",
      "PDF\n",
      "MBTiles\n",
      "BAG\n",
      "EEDA\n"
     ]
    }
   ],
   "source": [
    "# get ogr drivers\n",
    "cnt = ogr.GetDriverCount()\n",
    "for i in range(cnt):\n",
    "    driver = ogr.GetDriver(i)\n",
    "    print (driver.GetName())\n",
    "    if i == 10:\n",
    "        break    # limiting result to 10"
   ]
  },
  {
   "cell_type": "code",
   "execution_count": 3,
   "metadata": {},
   "outputs": [
    {
     "name": "stdout",
     "output_type": "stream",
     "text": [
      "Name: Club Nasha, Amentity Type: bar, Lat: 28.2107156, Lng: 83.9565679\n",
      "Name: Paralounge, Amentity Type: bar, Lat: 28.2102933, Lng: 83.9569089\n",
      "Name: New Sky Palace Dance Bar & Restaurant, Amentity Type: bar, Lat: 28.2127516, Lng: 83.9572634\n",
      "Name: VE'YE Restro Bar Lounge, Amentity Type: bar, Lat: 28.2234303, Lng: 83.9875321\n",
      "Name: Planet Purple, Amentity Type: bar, Lat: 28.2103676, Lng: 83.9558355\n",
      "Name: None, Amentity Type: bar, Lat: 28.2113859, Lng: 83.9664603\n",
      "Name: None, Amentity Type: bar, Lat: 28.2095861, Lng: 83.9569165\n",
      "Name: None, Amentity Type: bar, Lat: 28.217041, Lng: 83.9573992\n",
      "Name: None, Amentity Type: bar, Lat: 28.2085233, Lng: 83.9578373\n",
      "Name: Sugar Cane Bar, Amentity Type: bar, Lat: 28.2114524, Lng: 83.9570616\n"
     ]
    }
   ],
   "source": [
    "# Read file and visualize geometry and attributes\n",
    "fn = r'Economic_hub.shp'\n",
    "ds = ogr.Open(fn, 0)\n",
    "if ds is None:\n",
    "    sys.exit(f'Could not open {fn}')\n",
    "lyr = ds.GetLayer(0)\n",
    "\n",
    "i = 0\n",
    "for feat in lyr:\n",
    "    pt = feat.geometry()\n",
    "    x = pt.GetX()\n",
    "    y = pt.GetY()\n",
    "    name = feat.GetField(\"name\")\n",
    "    amenity = feat.GetField(\"amenity\")\n",
    "    print(f\"Name: {name}, Amentity Type: {amenity}, Lat: {y}, Lng: {x}\")\n",
    "    i += 1\n",
    "    if i == 10:\n",
    "        break\n",
    "del ds"
   ]
  },
  {
   "cell_type": "code",
   "execution_count": 4,
   "metadata": {},
   "outputs": [
    {
     "name": "stdout",
     "output_type": "stream",
     "text": [
      "Layer: Economic_hub\n",
      "Feature Count: 819\n",
      "Extend: (83.9400659, 84.0309624, 28.1731438, 28.263442753497404)\n",
      "Geometry Type: Point\n"
     ]
    }
   ],
   "source": [
    "# Get layer name, feature count, extend, geometry type\n",
    "ds = ogr.Open(fn, 0)\n",
    "for lyr in ds:\n",
    "    print(f\"Layer: {lyr.GetName()}\")\n",
    "    print(f\"Feature Count: {lyr.GetFeatureCount()}\")\n",
    "    (xmin, xmax, ymin, ymax)= lyr.GetExtent()\n",
    "    print(f\"Extend: {xmin, xmax, ymin, ymax}\")\n",
    "    print(f\"Geometry Type: {ogr.GeometryTypeToName(lyr.GetGeomType())}\")"
   ]
  },
  {
   "cell_type": "code",
   "execution_count": 5,
   "metadata": {},
   "outputs": [
    {
     "name": "stdout",
     "output_type": "stream",
     "text": [
      "SRS: GEOGCS[\"WGS 84\",DATUM[\"WGS_1984\",SPHEROID[\"WGS 84\",6378137,298.257223563,AUTHORITY[\"EPSG\",\"7030\"]],AUTHORITY[\"EPSG\",\"6326\"]],PRIMEM[\"Greenwich\",0,AUTHORITY[\"EPSG\",\"8901\"]],UNIT[\"degree\",0.0174532925199433,AUTHORITY[\"EPSG\",\"9122\"]],AXIS[\"Latitude\",NORTH],AXIS[\"Longitude\",EAST],AUTHORITY[\"EPSG\",\"4326\"]]\n"
     ]
    }
   ],
   "source": [
    "# Get spatial reference\n",
    "srs = lyr.GetSpatialRef()\n",
    "if srs is not None:\n",
    "    print(f\"SRS: {srs.ExportToWkt()}\")"
   ]
  },
  {
   "cell_type": "code",
   "execution_count": 6,
   "metadata": {},
   "outputs": [
    {
     "name": "stdout",
     "output_type": "stream",
     "text": [
      "Field: fid, Type: Real, Width: 20, Precision:0\n",
      "Field: full_id, Type: String, Width: 254, Precision:0\n",
      "Field: osm_id, Type: String, Width: 254, Precision:0\n",
      "Field: osm_type, Type: String, Width: 254, Precision:0\n",
      "Field: amenity, Type: String, Width: 254, Precision:0\n",
      "Field: name, Type: String, Width: 254, Precision:0\n",
      "Field: name_ne, Type: String, Width: 254, Precision:0\n",
      "Field: addr_city, Type: String, Width: 254, Precision:0\n",
      "Field: addr_distr, Type: String, Width: 254, Precision:0\n",
      "Field: addr_stree, Type: String, Width: 254, Precision:0\n",
      "Field: contact_ph, Type: String, Width: 254, Precision:0\n"
     ]
    }
   ],
   "source": [
    "# Get layer field, type, width and precision\n",
    "lyr_defn = lyr.GetLayerDefn()\n",
    "for i in range(lyr_defn.GetFieldCount()):\n",
    "    field_defn = lyr_defn.GetFieldDefn(i)\n",
    "    name = field_defn.GetName()\n",
    "    d_type = ogr.GetFieldTypeName(field_defn.GetType())\n",
    "    width = field_defn.GetWidth()\n",
    "    prec = field_defn.GetPrecision()\n",
    "    print(f\"Field: {name}, Type: {d_type}, Width: {width}, Precision:{prec}\")\n",
    "    if i == 10:\n",
    "        break"
   ]
  },
  {
   "cell_type": "markdown",
   "metadata": {},
   "source": [
    "# Writing Data"
   ]
  },
  {
   "cell_type": "code",
   "execution_count": 7,
   "metadata": {},
   "outputs": [],
   "source": [
    "# getting writeable layer\n",
    "fn = r'Fuel_station.shp'\n",
    "driver = ogr.GetDriverByName(\"ESRI Shapefile\") # choose appropriate driver\n",
    "ids = driver.Open(fn, 0) # open file\n",
    "if ids is None:\n",
    "    sys.exit(f'Could not open {fn}')\n",
    "inlyr = ids.GetLayer(0)"
   ]
  },
  {
   "cell_type": "code",
   "execution_count": 8,
   "metadata": {},
   "outputs": [],
   "source": [
    "# Delete file if it already exits\n",
    "if os.path.exists('test.shp'):\n",
    "    driver.DeleteDataSource('test.shp')\n",
    "\n",
    "# Create new file\n",
    "ds = driver.CreateDataSource('test.shp')\n",
    "layer = ds.CreateLayer('test', geom_type=ogr.wkbPoint)"
   ]
  },
  {
   "cell_type": "code",
   "execution_count": 9,
   "metadata": {},
   "outputs": [
    {
     "data": {
      "text/plain": [
       "0"
      ]
     },
     "execution_count": 9,
     "metadata": {},
     "output_type": "execute_result"
    }
   ],
   "source": [
    "# Adding fields\n",
    "fldDef = ogr.FieldDefn('id', ogr.OFTInteger) # for integer\n",
    "fieldDefn = ogr.FieldDefn('id', ogr.OFTString) # for string\n",
    "fieldDefn.SetWidth(4)\n",
    "layer.CreateField(fieldDefn) # create field"
   ]
  },
  {
   "cell_type": "code",
   "execution_count": 10,
   "metadata": {},
   "outputs": [
    {
     "data": {
      "text/plain": [
       "0"
      ]
     },
     "execution_count": 10,
     "metadata": {},
     "output_type": "execute_result"
    }
   ],
   "source": [
    "# Create field using previous file\n",
    "fieldDefn = inlyr.GetFeature(0).GetFieldDefnRef('amenity')\n",
    "layer.CreateField(fieldDefn)"
   ]
  },
  {
   "cell_type": "code",
   "execution_count": 11,
   "metadata": {},
   "outputs": [],
   "source": [
    "# Create new feature object\n",
    "featureDefn = layer.GetLayerDefn()\n",
    "feature = ogr.Feature(featureDefn)"
   ]
  },
  {
   "cell_type": "code",
   "execution_count": 12,
   "metadata": {},
   "outputs": [],
   "source": [
    "# Set geometry for new feature\n",
    "point=ogr.Geometry(ogr.wkbPoint)\n",
    "point.SetPoint(0,10,10)\n",
    "feature.SetGeometry(point)\n",
    "\n",
    "# Set attributes\n",
    "feature.SetField('id', 23)\n",
    "\n",
    "# Write feature to layer\n",
    "layer.CreateFeature(feature)\n",
    "ds.Destroy()"
   ]
  },
  {
   "cell_type": "code",
   "execution_count": 13,
   "metadata": {},
   "outputs": [
    {
     "data": {
      "text/html": [
       "<div>\n",
       "<style scoped>\n",
       "    .dataframe tbody tr th:only-of-type {\n",
       "        vertical-align: middle;\n",
       "    }\n",
       "\n",
       "    .dataframe tbody tr th {\n",
       "        vertical-align: top;\n",
       "    }\n",
       "\n",
       "    .dataframe thead th {\n",
       "        text-align: right;\n",
       "    }\n",
       "</style>\n",
       "<table border=\"1\" class=\"dataframe\">\n",
       "  <thead>\n",
       "    <tr style=\"text-align: right;\">\n",
       "      <th></th>\n",
       "      <th>id</th>\n",
       "      <th>amenity</th>\n",
       "      <th>geometry</th>\n",
       "    </tr>\n",
       "  </thead>\n",
       "  <tbody>\n",
       "    <tr>\n",
       "      <th>0</th>\n",
       "      <td>23</td>\n",
       "      <td>None</td>\n",
       "      <td>POINT (10.00000 10.00000)</td>\n",
       "    </tr>\n",
       "  </tbody>\n",
       "</table>\n",
       "</div>"
      ],
      "text/plain": [
       "   id amenity                   geometry\n",
       "0  23    None  POINT (10.00000 10.00000)"
      ]
     },
     "execution_count": 13,
     "metadata": {},
     "output_type": "execute_result"
    }
   ],
   "source": [
    "# View layer details using geopandas\n",
    "import geopandas as gpd\n",
    "gfd = gpd.read_file(\"test.shp\")\n",
    "gfd.head()"
   ]
  },
  {
   "cell_type": "code",
   "execution_count": 18,
   "metadata": {},
   "outputs": [],
   "source": [
    "from osgeo import ogr, osr\n",
    "import os"
   ]
  },
  {
   "cell_type": "code",
   "execution_count": 19,
   "metadata": {},
   "outputs": [
    {
     "name": "stdout",
     "output_type": "stream",
     "text": [
      "83.97709634943661 28.255935984288143\n"
     ]
    }
   ],
   "source": [
    "driver = ogr.GetDriverByName('ESRI Shapefile')\n",
    "dataset = driver.Open(r\"fountain.shp\", 0)\n",
    "layer = dataset.GetLayer(0)\n",
    "feature = layer.GetNextFeature()\n",
    "geom = feature.GetGeometryRef()\n",
    "print(geom.GetX(), geom.GetY())"
   ]
  },
  {
   "cell_type": "code",
   "execution_count": 20,
   "metadata": {},
   "outputs": [
    {
     "name": "stdout",
     "output_type": "stream",
     "text": [
      "-35473.97578762239 9589941.13456382\n"
     ]
    }
   ],
   "source": [
    "geoSR = osr.SpatialReference()\n",
    "geoSR.ImportFromEPSG(4326)\n",
    "\n",
    "utmSR = osr.SpatialReference()\n",
    "utmSR.ImportFromEPSG(32644)\n",
    "\n",
    "coordTrans = osr.CoordinateTransformation(geoSR, utmSR)\n",
    "geom.Transform(coordTrans)\n",
    "\n",
    "print(geom.GetX(), geom.GetY())"
   ]
  },
  {
   "cell_type": "code",
   "execution_count": null,
   "metadata": {},
   "outputs": [],
   "source": []
  }
 ],
 "metadata": {
  "interpreter": {
   "hash": "bd9228b30e5f5679ab7069e5c2f351846e4174069ab5a9a3e3699e1218907a57"
  },
  "kernelspec": {
   "display_name": "Python 3.7.9 64-bit ('geo': conda)",
   "name": "python3"
  },
  "language_info": {
   "codemirror_mode": {
    "name": "ipython",
    "version": 3
   },
   "file_extension": ".py",
   "mimetype": "text/x-python",
   "name": "python",
   "nbconvert_exporter": "python",
   "pygments_lexer": "ipython3",
   "version": "3.8.12"
  }
 },
 "nbformat": 4,
 "nbformat_minor": 2
}
